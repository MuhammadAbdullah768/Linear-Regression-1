{
 "cells": [
  {
   "cell_type": "code",
   "execution_count": 63,
   "id": "32474fab-1f3a-4ec1-8c2c-aaa1f8952726",
   "metadata": {},
   "outputs": [],
   "source": [
    "import pandas as pd\n",
    "import numpy as np\n",
    "import matplotlib.pyplot as plt\n",
    "from sklearn import linear_model"
   ]
  },
  {
   "cell_type": "code",
   "execution_count": 64,
   "id": "2f107762-34d5-4d26-a983-d7d9f8d4d168",
   "metadata": {},
   "outputs": [],
   "source": [
    "df = pd.read_csv(\"//Users//muhammadabdullah//Downloads//ex1data1.txt\")\n",
    "df.columns = ['x', 'y']\n"
   ]
  },
  {
   "cell_type": "code",
   "execution_count": 65,
   "id": "77682e71-fa74-478f-a705-9c38a8a8f26e",
   "metadata": {},
   "outputs": [
    {
     "data": {
      "text/html": [
       "<div>\n",
       "<style scoped>\n",
       "    .dataframe tbody tr th:only-of-type {\n",
       "        vertical-align: middle;\n",
       "    }\n",
       "\n",
       "    .dataframe tbody tr th {\n",
       "        vertical-align: top;\n",
       "    }\n",
       "\n",
       "    .dataframe thead th {\n",
       "        text-align: right;\n",
       "    }\n",
       "</style>\n",
       "<table border=\"1\" class=\"dataframe\">\n",
       "  <thead>\n",
       "    <tr style=\"text-align: right;\">\n",
       "      <th></th>\n",
       "      <th>x</th>\n",
       "      <th>y</th>\n",
       "    </tr>\n",
       "  </thead>\n",
       "  <tbody>\n",
       "    <tr>\n",
       "      <th>0</th>\n",
       "      <td>5.5277</td>\n",
       "      <td>9.1302</td>\n",
       "    </tr>\n",
       "    <tr>\n",
       "      <th>1</th>\n",
       "      <td>8.5186</td>\n",
       "      <td>13.6620</td>\n",
       "    </tr>\n",
       "    <tr>\n",
       "      <th>2</th>\n",
       "      <td>7.0032</td>\n",
       "      <td>11.8540</td>\n",
       "    </tr>\n",
       "    <tr>\n",
       "      <th>3</th>\n",
       "      <td>5.8598</td>\n",
       "      <td>6.8233</td>\n",
       "    </tr>\n",
       "    <tr>\n",
       "      <th>4</th>\n",
       "      <td>8.3829</td>\n",
       "      <td>11.8860</td>\n",
       "    </tr>\n",
       "  </tbody>\n",
       "</table>\n",
       "</div>"
      ],
      "text/plain": [
       "        x        y\n",
       "0  5.5277   9.1302\n",
       "1  8.5186  13.6620\n",
       "2  7.0032  11.8540\n",
       "3  5.8598   6.8233\n",
       "4  8.3829  11.8860"
      ]
     },
     "execution_count": 65,
     "metadata": {},
     "output_type": "execute_result"
    }
   ],
   "source": [
    "df.head()"
   ]
  },
  {
   "cell_type": "code",
   "execution_count": 66,
   "id": "e36a2b26-c81d-4bf7-ba4d-e9dd8fc9c0d7",
   "metadata": {},
   "outputs": [
    {
     "data": {
      "text/plain": [
       "<matplotlib.collections.PathCollection at 0x7f91da150b80>"
      ]
     },
     "execution_count": 66,
     "metadata": {},
     "output_type": "execute_result"
    },
    {
     "data": {
      "image/png": "[encoded data removed]",
      "text/plain": [
       "<Figure size 432x288 with 1 Axes>"
      ]
     },
     "metadata": {
      "needs_background": "light"
     },
     "output_type": "display_data"
    }
   ],
   "source": [
    "%matplotlib inline\n",
    "plt.xlabel (\"Population in 10 000s\")\n",
    "plt.ylabel (\"Profit in 10000rs\")\n",
    "plt.scatter(df.x, df.y , color = \"green\", marker = \"+\")"
   ]
  },
  {
   "cell_type": "code",
   "execution_count": 67,
   "id": "574f3455-0c34-4109-95a1-0630733513d2",
   "metadata": {},
   "outputs": [
    {
     "data": {
      "text/plain": [
       "LinearRegression()"
      ]
     },
     "execution_count": 67,
     "metadata": {},
     "output_type": "execute_result"
    }
   ],
   "source": [
    "lreg = linear_model.LinearRegression()\n",
    "lreg.fit(df[[\"x\"]], df.y)"
   ]
  },
  {
   "cell_type": "code",
   "execution_count": 68,
   "id": "44efd950-3bfd-427b-8f7c-3a82dd2ec461",
   "metadata": {},
   "outputs": [],
   "source": [
    "X = df.iloc[:, 0].values\n",
    "X =X.reshape(-1,1)\n",
    "y = df.iloc[:, 1].values\n",
    "y = y.reshape (-1,1)"
   ]
  },
  {
   "cell_type": "code",
   "execution_count": 69,
   "id": "c832fd72-a2e2-4a4e-80eb-01887dba23a9",
   "metadata": {},
   "outputs": [
    {
     "data": {
      "text/plain": [
       "[<matplotlib.lines.Line2D at 0x7f91da1df670>]"
      ]
     },
     "execution_count": 69,
     "metadata": {},
     "output_type": "execute_result"
    },
    {
     "data": {
      "image/png": "[encoded data removed]",
      "text/plain": [
       "<Figure size 432x288 with 1 Axes>"
      ]
     },
     "metadata": {
      "needs_background": "light"
     },
     "output_type": "display_data"
    }
   ],
   "source": [
    "%matplotlib inline\n",
    "plt.xlabel (\"Population\", fontsize = 20)\n",
    "plt.ylabel (\"Profit\", fontsize = 20)\n",
    "plt.scatter(X,y, color =\"red\", marker = \"+\")\n",
    "plt.plot(X, lreg.predict(X), color = \"blue\")\n"
   ]
  }
 ],
 "metadata": {
  "kernelspec": {
   "display_name": "Python 3 (ipykernel)",
   "language": "python",
   "name": "python3"
  },
  "language_info": {
   "codemirror_mode": {
    "name": "ipython",
    "version": 3
   },
   "file_extension": ".py",
   "mimetype": "text/x-python",
   "name": "python",
   "nbconvert_exporter": "python",
   "pygments_lexer": "ipython3",
   "version": "3.9.7"
  }
 },
 "nbformat": 4,
 "nbformat_minor": 5
}
